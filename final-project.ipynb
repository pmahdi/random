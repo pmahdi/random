{
 "cells": [
  {
   "cell_type": "markdown",
   "id": "fa537e58-0b06-4123-8a8a-81a617879664",
   "metadata": {},
   "source": [
    "# Loading the libraries and the data"
   ]
  },
  {
   "cell_type": "code",
   "execution_count": 1,
   "id": "72383d08-025e-4bad-8b8c-6a303817a973",
   "metadata": {},
   "outputs": [],
   "source": [
    "import pandas as pd\n",
    "import warnings\n",
    "from matplotlib import pyplot as plt\n",
    "import seaborn as sns"
   ]
  },
  {
   "cell_type": "code",
   "execution_count": 2,
   "id": "64acacfb-6167-42cf-a4d8-5a74794a90f4",
   "metadata": {},
   "outputs": [],
   "source": [
    "df = pd.read_excel('https://github.com/pmahdi/random/blob/main/Table_8_Offenses_Known_to_Law_Enforcement_by_State_by_City_2021.xlsx?raw=true', skiprows=[0, 1, 2, 5879])"
   ]
  },
  {
   "cell_type": "markdown",
   "id": "bf1149b0-796d-458e-86b9-22234b63adf2",
   "metadata": {},
   "source": [
    "# Exploring and cleaning the data"
   ]
  },
  {
   "cell_type": "markdown",
   "id": "5f26051d-f8e9-45fa-ae30-1a07e82adec7",
   "metadata": {},
   "source": [
    "#### Basic layout of the data"
   ]
  },
  {
   "cell_type": "code",
   "execution_count": 3,
   "id": "6bf86fb2-7297-4436-9875-ef2a7613dba6",
   "metadata": {},
   "outputs": [
    {
     "name": "stdout",
     "output_type": "stream",
     "text": [
      "<class 'pandas.core.frame.DataFrame'>\n",
      "RangeIndex: 5875 entries, 0 to 5874\n",
      "Data columns (total 13 columns):\n",
      " #   Column                                Non-Null Count  Dtype  \n",
      "---  ------                                --------------  -----  \n",
      " 0   State                                 51 non-null     object \n",
      " 1   City                                  5873 non-null   object \n",
      " 2   Population                            5873 non-null   float64\n",
      " 3   Violent\n",
      "crime                         5873 non-null   float64\n",
      " 4   Murder and\n",
      "nonnegligent\n",
      "manslaughter  5873 non-null   float64\n",
      " 5   Rape                                  5873 non-null   float64\n",
      " 6   Robbery                               5873 non-null   float64\n",
      " 7   Aggravated\n",
      "assault                    5873 non-null   float64\n",
      " 8   Property\n",
      "crime                        5873 non-null   float64\n",
      " 9   Burglary                              5873 non-null   float64\n",
      " 10  Larceny-\n",
      "theft                        5873 non-null   float64\n",
      " 11  Motor\n",
      "vehicle\n",
      "theft                   5873 non-null   float64\n",
      " 12  Arson                                 5873 non-null   float64\n",
      "dtypes: float64(11), object(2)\n",
      "memory usage: 596.8+ KB\n"
     ]
    },
    {
     "data": {
      "text/plain": [
       "None"
      ]
     },
     "metadata": {},
     "output_type": "display_data"
    },
    {
     "data": {
      "text/html": [
       "<div>\n",
       "<style scoped>\n",
       "    .dataframe tbody tr th:only-of-type {\n",
       "        vertical-align: middle;\n",
       "    }\n",
       "\n",
       "    .dataframe tbody tr th {\n",
       "        vertical-align: top;\n",
       "    }\n",
       "\n",
       "    .dataframe thead th {\n",
       "        text-align: right;\n",
       "    }\n",
       "</style>\n",
       "<table border=\"1\" class=\"dataframe\">\n",
       "  <thead>\n",
       "    <tr style=\"text-align: right;\">\n",
       "      <th></th>\n",
       "      <th>Population</th>\n",
       "      <th>Violent\\ncrime</th>\n",
       "      <th>Murder and\\nnonnegligent\\nmanslaughter</th>\n",
       "      <th>Rape</th>\n",
       "      <th>Robbery</th>\n",
       "      <th>Aggravated\\nassault</th>\n",
       "      <th>Property\\ncrime</th>\n",
       "      <th>Burglary</th>\n",
       "      <th>Larceny-\\ntheft</th>\n",
       "      <th>Motor\\nvehicle\\ntheft</th>\n",
       "      <th>Arson</th>\n",
       "    </tr>\n",
       "  </thead>\n",
       "  <tbody>\n",
       "    <tr>\n",
       "      <th>count</th>\n",
       "      <td>5.873000e+03</td>\n",
       "      <td>5873.000000</td>\n",
       "      <td>5873.000000</td>\n",
       "      <td>5873.000000</td>\n",
       "      <td>5873.000000</td>\n",
       "      <td>5873.000000</td>\n",
       "      <td>5873.000000</td>\n",
       "      <td>5873.000000</td>\n",
       "      <td>5873.000000</td>\n",
       "      <td>5873.000000</td>\n",
       "      <td>5873.000000</td>\n",
       "    </tr>\n",
       "    <tr>\n",
       "      <th>mean</th>\n",
       "      <td>2.139720e+04</td>\n",
       "      <td>100.298655</td>\n",
       "      <td>1.699472</td>\n",
       "      <td>10.415801</td>\n",
       "      <td>16.045462</td>\n",
       "      <td>72.137919</td>\n",
       "      <td>511.110165</td>\n",
       "      <td>73.218968</td>\n",
       "      <td>366.485272</td>\n",
       "      <td>71.405925</td>\n",
       "      <td>3.030989</td>\n",
       "    </tr>\n",
       "    <tr>\n",
       "      <th>std</th>\n",
       "      <td>7.479825e+04</td>\n",
       "      <td>670.879401</td>\n",
       "      <td>12.948879</td>\n",
       "      <td>45.085169</td>\n",
       "      <td>144.712577</td>\n",
       "      <td>484.829149</td>\n",
       "      <td>2617.877790</td>\n",
       "      <td>408.060674</td>\n",
       "      <td>1758.486923</td>\n",
       "      <td>504.133812</td>\n",
       "      <td>17.933034</td>\n",
       "    </tr>\n",
       "    <tr>\n",
       "      <th>min</th>\n",
       "      <td>8.000000e+00</td>\n",
       "      <td>0.000000</td>\n",
       "      <td>0.000000</td>\n",
       "      <td>0.000000</td>\n",
       "      <td>0.000000</td>\n",
       "      <td>0.000000</td>\n",
       "      <td>0.000000</td>\n",
       "      <td>0.000000</td>\n",
       "      <td>0.000000</td>\n",
       "      <td>0.000000</td>\n",
       "      <td>0.000000</td>\n",
       "    </tr>\n",
       "    <tr>\n",
       "      <th>25%</th>\n",
       "      <td>2.453000e+03</td>\n",
       "      <td>3.000000</td>\n",
       "      <td>0.000000</td>\n",
       "      <td>0.000000</td>\n",
       "      <td>0.000000</td>\n",
       "      <td>2.000000</td>\n",
       "      <td>22.000000</td>\n",
       "      <td>3.000000</td>\n",
       "      <td>16.000000</td>\n",
       "      <td>2.000000</td>\n",
       "      <td>0.000000</td>\n",
       "    </tr>\n",
       "    <tr>\n",
       "      <th>50%</th>\n",
       "      <td>6.429000e+03</td>\n",
       "      <td>11.000000</td>\n",
       "      <td>0.000000</td>\n",
       "      <td>2.000000</td>\n",
       "      <td>1.000000</td>\n",
       "      <td>8.000000</td>\n",
       "      <td>76.000000</td>\n",
       "      <td>10.000000</td>\n",
       "      <td>57.000000</td>\n",
       "      <td>6.000000</td>\n",
       "      <td>0.000000</td>\n",
       "    </tr>\n",
       "    <tr>\n",
       "      <th>75%</th>\n",
       "      <td>1.748200e+04</td>\n",
       "      <td>39.000000</td>\n",
       "      <td>0.000000</td>\n",
       "      <td>7.000000</td>\n",
       "      <td>4.000000</td>\n",
       "      <td>27.000000</td>\n",
       "      <td>285.000000</td>\n",
       "      <td>37.000000</td>\n",
       "      <td>219.000000</td>\n",
       "      <td>24.000000</td>\n",
       "      <td>1.000000</td>\n",
       "    </tr>\n",
       "    <tr>\n",
       "      <th>max</th>\n",
       "      <td>2.339252e+06</td>\n",
       "      <td>28325.000000</td>\n",
       "      <td>464.000000</td>\n",
       "      <td>1173.000000</td>\n",
       "      <td>7729.000000</td>\n",
       "      <td>18959.000000</td>\n",
       "      <td>96048.000000</td>\n",
       "      <td>14749.000000</td>\n",
       "      <td>65729.000000</td>\n",
       "      <td>15570.000000</td>\n",
       "      <td>543.000000</td>\n",
       "    </tr>\n",
       "  </tbody>\n",
       "</table>\n",
       "</div>"
      ],
      "text/plain": [
       "         Population  Violent\\ncrime  Murder and\\nnonnegligent\\nmanslaughter  \\\n",
       "count  5.873000e+03     5873.000000                             5873.000000   \n",
       "mean   2.139720e+04      100.298655                                1.699472   \n",
       "std    7.479825e+04      670.879401                               12.948879   \n",
       "min    8.000000e+00        0.000000                                0.000000   \n",
       "25%    2.453000e+03        3.000000                                0.000000   \n",
       "50%    6.429000e+03       11.000000                                0.000000   \n",
       "75%    1.748200e+04       39.000000                                0.000000   \n",
       "max    2.339252e+06    28325.000000                              464.000000   \n",
       "\n",
       "              Rape      Robbery  Aggravated\\nassault  Property\\ncrime  \\\n",
       "count  5873.000000  5873.000000          5873.000000      5873.000000   \n",
       "mean     10.415801    16.045462            72.137919       511.110165   \n",
       "std      45.085169   144.712577           484.829149      2617.877790   \n",
       "min       0.000000     0.000000             0.000000         0.000000   \n",
       "25%       0.000000     0.000000             2.000000        22.000000   \n",
       "50%       2.000000     1.000000             8.000000        76.000000   \n",
       "75%       7.000000     4.000000            27.000000       285.000000   \n",
       "max    1173.000000  7729.000000         18959.000000     96048.000000   \n",
       "\n",
       "           Burglary  Larceny-\\ntheft  Motor\\nvehicle\\ntheft        Arson  \n",
       "count   5873.000000      5873.000000            5873.000000  5873.000000  \n",
       "mean      73.218968       366.485272              71.405925     3.030989  \n",
       "std      408.060674      1758.486923             504.133812    17.933034  \n",
       "min        0.000000         0.000000               0.000000     0.000000  \n",
       "25%        3.000000        16.000000               2.000000     0.000000  \n",
       "50%       10.000000        57.000000               6.000000     0.000000  \n",
       "75%       37.000000       219.000000              24.000000     1.000000  \n",
       "max    14749.000000     65729.000000           15570.000000   543.000000  "
      ]
     },
     "metadata": {},
     "output_type": "display_data"
    },
    {
     "data": {
      "text/plain": [
       "(5875, 13)"
      ]
     },
     "metadata": {},
     "output_type": "display_data"
    },
    {
     "data": {
      "text/plain": [
       "Index(['State', 'City', 'Population', 'Violent\\ncrime',\n",
       "       'Murder and\\nnonnegligent\\nmanslaughter', 'Rape', 'Robbery',\n",
       "       'Aggravated\\nassault', 'Property\\ncrime', 'Burglary', 'Larceny-\\ntheft',\n",
       "       'Motor\\nvehicle\\ntheft', 'Arson'],\n",
       "      dtype='object')"
      ]
     },
     "metadata": {},
     "output_type": "display_data"
    },
    {
     "data": {
      "text/plain": [
       "RangeIndex(start=0, stop=5875, step=1)"
      ]
     },
     "metadata": {},
     "output_type": "display_data"
    }
   ],
   "source": [
    "display(df.info())\n",
    "display(df.describe())\n",
    "display(df.shape)\n",
    "display(df.columns)\n",
    "display(df.index)"
   ]
  },
  {
   "cell_type": "markdown",
   "id": "7495b059-7a4e-4f2e-becf-aaeff8b2a2b1",
   "metadata": {},
   "source": [
    "#### Finding and dealing with missing values"
   ]
  },
  {
   "cell_type": "code",
   "execution_count": 4,
   "id": "12bacc4c-7368-41e8-af65-431a117d07f5",
   "metadata": {},
   "outputs": [
    {
     "data": {
      "text/plain": [
       "State                                     5824\n",
       "City                                         2\n",
       "Population                                   2\n",
       "Violent\\ncrime                               2\n",
       "Murder and\\nnonnegligent\\nmanslaughter       2\n",
       "Rape                                         2\n",
       "Robbery                                      2\n",
       "Aggravated\\nassault                          2\n",
       "Property\\ncrime                              2\n",
       "Burglary                                     2\n",
       "Larceny-\\ntheft                              2\n",
       "Motor\\nvehicle\\ntheft                        2\n",
       "Arson                                        2\n",
       "dtype: int64"
      ]
     },
     "metadata": {},
     "output_type": "display_data"
    },
    {
     "data": {
      "text/html": [
       "<div>\n",
       "<style scoped>\n",
       "    .dataframe tbody tr th:only-of-type {\n",
       "        vertical-align: middle;\n",
       "    }\n",
       "\n",
       "    .dataframe tbody tr th {\n",
       "        vertical-align: top;\n",
       "    }\n",
       "\n",
       "    .dataframe thead th {\n",
       "        text-align: right;\n",
       "    }\n",
       "</style>\n",
       "<table border=\"1\" class=\"dataframe\">\n",
       "  <thead>\n",
       "    <tr style=\"text-align: right;\">\n",
       "      <th></th>\n",
       "      <th>State</th>\n",
       "      <th>City</th>\n",
       "      <th>Population</th>\n",
       "      <th>Violent\\ncrime</th>\n",
       "      <th>Murder and\\nnonnegligent\\nmanslaughter</th>\n",
       "      <th>Rape</th>\n",
       "      <th>Robbery</th>\n",
       "      <th>Aggravated\\nassault</th>\n",
       "      <th>Property\\ncrime</th>\n",
       "      <th>Burglary</th>\n",
       "      <th>Larceny-\\ntheft</th>\n",
       "      <th>Motor\\nvehicle\\ntheft</th>\n",
       "      <th>Arson</th>\n",
       "    </tr>\n",
       "  </thead>\n",
       "  <tbody>\n",
       "    <tr>\n",
       "      <th>653</th>\n",
       "      <td>DISTRICT OF COLUMBIA1</td>\n",
       "      <td>NaN</td>\n",
       "      <td>NaN</td>\n",
       "      <td>NaN</td>\n",
       "      <td>NaN</td>\n",
       "      <td>NaN</td>\n",
       "      <td>NaN</td>\n",
       "      <td>NaN</td>\n",
       "      <td>NaN</td>\n",
       "      <td>NaN</td>\n",
       "      <td>NaN</td>\n",
       "      <td>NaN</td>\n",
       "      <td>NaN</td>\n",
       "    </tr>\n",
       "    <tr>\n",
       "      <th>654</th>\n",
       "      <td>FLORIDA1</td>\n",
       "      <td>NaN</td>\n",
       "      <td>NaN</td>\n",
       "      <td>NaN</td>\n",
       "      <td>NaN</td>\n",
       "      <td>NaN</td>\n",
       "      <td>NaN</td>\n",
       "      <td>NaN</td>\n",
       "      <td>NaN</td>\n",
       "      <td>NaN</td>\n",
       "      <td>NaN</td>\n",
       "      <td>NaN</td>\n",
       "      <td>NaN</td>\n",
       "    </tr>\n",
       "  </tbody>\n",
       "</table>\n",
       "</div>"
      ],
      "text/plain": [
       "                     State City  Population  Violent\\ncrime  \\\n",
       "653  DISTRICT OF COLUMBIA1  NaN         NaN             NaN   \n",
       "654               FLORIDA1  NaN         NaN             NaN   \n",
       "\n",
       "     Murder and\\nnonnegligent\\nmanslaughter  Rape  Robbery  \\\n",
       "653                                     NaN   NaN      NaN   \n",
       "654                                     NaN   NaN      NaN   \n",
       "\n",
       "     Aggravated\\nassault  Property\\ncrime  Burglary  Larceny-\\ntheft  \\\n",
       "653                  NaN              NaN       NaN              NaN   \n",
       "654                  NaN              NaN       NaN              NaN   \n",
       "\n",
       "     Motor\\nvehicle\\ntheft  Arson  \n",
       "653                    NaN    NaN  \n",
       "654                    NaN    NaN  "
      ]
     },
     "metadata": {},
     "output_type": "display_data"
    }
   ],
   "source": [
    "display(df.isna().sum())  # All the missing values shown by column\n",
    "display(df.loc[df['City'].isna(), ])  # No information for District of Columnbia and Florida "
   ]
  },
  {
   "cell_type": "code",
   "execution_count": 5,
   "id": "b7fdf8ee-c888-4194-9191-df6d26705d2f",
   "metadata": {},
   "outputs": [],
   "source": [
    "# Dropping the rows corresponding to District of Columbia and Florida\n",
    "df = df.loc[df['City'].notna(), ]"
   ]
  },
  {
   "cell_type": "code",
   "execution_count": 6,
   "id": "edab5901-bea4-45f6-afae-c6c684d9150a",
   "metadata": {},
   "outputs": [],
   "source": [
    "df.fillna(method='ffill', inplace=True)  # Imputing the missing values for the State column"
   ]
  },
  {
   "cell_type": "code",
   "execution_count": 7,
   "id": "4cf7ca3a-d777-4cf9-899d-f8620f07b3fb",
   "metadata": {
    "tags": []
   },
   "outputs": [
    {
     "data": {
      "text/plain": [
       "State                                     0\n",
       "City                                      0\n",
       "Population                                0\n",
       "Violent\\ncrime                            0\n",
       "Murder and\\nnonnegligent\\nmanslaughter    0\n",
       "Rape                                      0\n",
       "Robbery                                   0\n",
       "Aggravated\\nassault                       0\n",
       "Property\\ncrime                           0\n",
       "Burglary                                  0\n",
       "Larceny-\\ntheft                           0\n",
       "Motor\\nvehicle\\ntheft                     0\n",
       "Arson                                     0\n",
       "dtype: int64"
      ]
     },
     "metadata": {},
     "output_type": "display_data"
    }
   ],
   "source": [
    "display(df.isna().sum())\n",
    "# No more missing values!"
   ]
  },
  {
   "cell_type": "markdown",
   "id": "7c753d40-1f5a-4e62-ac35-cf7a71dd791c",
   "metadata": {},
   "source": [
    "#### Fixing column names to be less wonky"
   ]
  },
  {
   "cell_type": "code",
   "execution_count": 8,
   "id": "5148086b-5cf8-4d0d-bf55-78f22f550d67",
   "metadata": {},
   "outputs": [
    {
     "data": {
      "text/plain": [
       "Index(['State', 'City', 'Population', 'Violent\\ncrime',\n",
       "       'Murder and\\nnonnegligent\\nmanslaughter', 'Rape', 'Robbery',\n",
       "       'Aggravated\\nassault', 'Property\\ncrime', 'Burglary', 'Larceny-\\ntheft',\n",
       "       'Motor\\nvehicle\\ntheft', 'Arson'],\n",
       "      dtype='object')"
      ]
     },
     "metadata": {},
     "output_type": "display_data"
    },
    {
     "data": {
      "text/plain": [
       "Index(['state', 'city', 'population', 'violent_crime', 'murder_manslaughter',\n",
       "       'rape', 'robbery', 'aggravated_assault', 'property_crime', 'burglary',\n",
       "       'larceny_theft', 'motor_vehicle_theft', 'arson'],\n",
       "      dtype='object')"
      ]
     },
     "metadata": {},
     "output_type": "display_data"
    }
   ],
   "source": [
    "display(df.columns)\n",
    "df.columns = df.columns.str.replace('-', '').str.replace('\\n', '_').str.lower()\n",
    "df.rename(columns = {'murder and_nonnegligent_manslaughter':'murder_manslaughter'}, inplace = True)\n",
    "display(df.columns)"
   ]
  },
  {
   "cell_type": "markdown",
   "id": "8ccca8fa-6803-4aba-826d-05a5a4a37b9c",
   "metadata": {},
   "source": [
    "#### Setting state and city columns as the index"
   ]
  },
  {
   "cell_type": "code",
   "execution_count": 9,
   "id": "74423911-295a-4822-b73e-bfccded8bbb3",
   "metadata": {},
   "outputs": [
    {
     "data": {
      "text/plain": [
       "MultiIndex([('ALABAMA',      'Abbeville'),\n",
       "            ('ALABAMA',      'Alabaster'),\n",
       "            ('ALABAMA', 'Alexander City'),\n",
       "            ('ALABAMA',        'Altoona'),\n",
       "            ('ALABAMA',      'Andalusia'),\n",
       "            ('ALABAMA',       'Anniston'),\n",
       "            ('ALABAMA',           'Arab'),\n",
       "            ('ALABAMA',           'Argo'),\n",
       "            ('ALABAMA',          'Arley'),\n",
       "            ('ALABAMA',       'Ashville'),\n",
       "            ...\n",
       "            ('WYOMING',      'Moorcroft'),\n",
       "            ('WYOMING',      'Newcastle'),\n",
       "            ('WYOMING',    'Pine Bluffs'),\n",
       "            ('WYOMING',         'Powell'),\n",
       "            ('WYOMING',       'Riverton'),\n",
       "            ('WYOMING',   'Rock Springs'),\n",
       "            ('WYOMING',       'Sheridan'),\n",
       "            ('WYOMING',    'Thermopolis'),\n",
       "            ('WYOMING',     'Torrington'),\n",
       "            ('WYOMING',        'Worland')],\n",
       "           names=['state', 'city'], length=5873)"
      ]
     },
     "metadata": {},
     "output_type": "display_data"
    }
   ],
   "source": [
    "df2 = df.set_index(['state', 'city'])\n",
    "display(df2.index)"
   ]
  },
  {
   "cell_type": "markdown",
   "id": "5724a1f6-f9be-4830-a59d-c1897d2d1107",
   "metadata": {},
   "source": [
    "# Transforming and analyzing the data"
   ]
  },
  {
   "cell_type": "markdown",
   "id": "93744906-aca1-41e9-a3d8-e07492385460",
   "metadata": {},
   "source": [
    "#### Calculating the total population of each state"
   ]
  },
  {
   "cell_type": "code",
   "execution_count": 10,
   "id": "3438f367-6869-480d-ac35-a86f691c478e",
   "metadata": {},
   "outputs": [
    {
     "data": {
      "text/html": [
       "<div>\n",
       "<style scoped>\n",
       "    .dataframe tbody tr th:only-of-type {\n",
       "        vertical-align: middle;\n",
       "    }\n",
       "\n",
       "    .dataframe tbody tr th {\n",
       "        vertical-align: top;\n",
       "    }\n",
       "\n",
       "    .dataframe thead th {\n",
       "        text-align: right;\n",
       "    }\n",
       "</style>\n",
       "<table border=\"1\" class=\"dataframe\">\n",
       "  <thead>\n",
       "    <tr style=\"text-align: right;\">\n",
       "      <th></th>\n",
       "      <th>state_pop</th>\n",
       "    </tr>\n",
       "    <tr>\n",
       "      <th>state</th>\n",
       "      <th></th>\n",
       "    </tr>\n",
       "  </thead>\n",
       "  <tbody>\n",
       "    <tr>\n",
       "      <th>ALABAMA</th>\n",
       "      <td>1306008.0</td>\n",
       "    </tr>\n",
       "    <tr>\n",
       "      <th>ALASKA</th>\n",
       "      <td>105121.0</td>\n",
       "    </tr>\n",
       "    <tr>\n",
       "      <th>ARIZONA</th>\n",
       "      <td>2670014.0</td>\n",
       "    </tr>\n",
       "    <tr>\n",
       "      <th>ARKANSAS</th>\n",
       "      <td>1824677.0</td>\n",
       "    </tr>\n",
       "    <tr>\n",
       "      <th>CALIFORNIA1</th>\n",
       "      <td>2376930.0</td>\n",
       "    </tr>\n",
       "  </tbody>\n",
       "</table>\n",
       "</div>"
      ],
      "text/plain": [
       "             state_pop\n",
       "state                 \n",
       "ALABAMA      1306008.0\n",
       "ALASKA        105121.0\n",
       "ARIZONA      2670014.0\n",
       "ARKANSAS     1824677.0\n",
       "CALIFORNIA1  2376930.0"
      ]
     },
     "execution_count": 10,
     "metadata": {},
     "output_type": "execute_result"
    }
   ],
   "source": [
    "df_state_pop = df2.groupby('state').sum('population')['population'].to_frame('state_pop')\n",
    "df_state_pop.head()"
   ]
  },
  {
   "cell_type": "markdown",
   "id": "c68482a9-6a38-4c38-97b7-f08564b1b1a3",
   "metadata": {},
   "source": [
    "#### Left joining df2 with df_state_pop based on the index column of state"
   ]
  },
  {
   "cell_type": "code",
   "execution_count": 11,
   "id": "3c01627c-f414-4009-b528-de8b204c458f",
   "metadata": {},
   "outputs": [
    {
     "data": {
      "text/plain": [
       "state    city          \n",
       "ALABAMA  Abbeville         1306008.0\n",
       "         Alabaster         1306008.0\n",
       "         Alexander City    1306008.0\n",
       "         Altoona           1306008.0\n",
       "         Andalusia         1306008.0\n",
       "Name: state_pop, dtype: float64"
      ]
     },
     "metadata": {},
     "output_type": "display_data"
    }
   ],
   "source": [
    "df2 = df2.join(df_state_pop, on='state')\n",
    "display(df2['state_pop'].head())"
   ]
  },
  {
   "cell_type": "markdown",
   "id": "60421a4a-d0a6-4c29-890a-50ff02d6890a",
   "metadata": {},
   "source": [
    "#### Finding the population proportion of each city within its state"
   ]
  },
  {
   "cell_type": "code",
   "execution_count": 12,
   "id": "98cae436-b080-49e0-a89b-d91c3c7c90b2",
   "metadata": {},
   "outputs": [
    {
     "data": {
      "text/plain": [
       "state    city          \n",
       "ALABAMA  Abbeville         0.001944\n",
       "         Alabaster         0.026005\n",
       "         Alexander City    0.010770\n",
       "         Altoona           0.000699\n",
       "         Andalusia         0.006618\n",
       "Name: pop_ratio, dtype: float64"
      ]
     },
     "metadata": {},
     "output_type": "display_data"
    }
   ],
   "source": [
    "df2['pop_ratio'] = df2['population'] / df2['state_pop']\n",
    "display(df2['pop_ratio'].head())"
   ]
  },
  {
   "cell_type": "markdown",
   "id": "ab52099a-9379-47f1-902b-cd05fb8e6af8",
   "metadata": {},
   "source": [
    "#### Dropping all observations with no crime counts"
   ]
  },
  {
   "cell_type": "code",
   "execution_count": 13,
   "id": "2c5188e1-4a17-4a9d-8c50-812e18e60e13",
   "metadata": {},
   "outputs": [
    {
     "data": {
      "text/plain": [
       "0"
      ]
     },
     "metadata": {},
     "output_type": "display_data"
    }
   ],
   "source": [
    "filter = df2.drop(columns = ['population', 'state_pop', 'pop_ratio'], axis=0).sum(axis=1) == 0\n",
    "df2 = df2.loc[~filter, :]\n",
    "display(sum(df2.sum(axis=1) == 0))"
   ]
  },
  {
   "cell_type": "markdown",
   "id": "0ef0f791-d66f-4c63-a716-5670ebe4e861",
   "metadata": {},
   "source": [
    "#### Creating subets for each variable"
   ]
  },
  {
   "cell_type": "code",
   "execution_count": 14,
   "id": "dbc9eaf3-0bf6-4c53-a6cd-a81cea27eab2",
   "metadata": {},
   "outputs": [],
   "source": [
    "violent_crime = df2[['population', 'violent_crime', 'pop_ratio']]\n",
    "murder_manslaughter = df2[['population', 'murder_manslaughter', 'pop_ratio']]\n",
    "rape = df2[['population', 'rape', 'pop_ratio']]\n",
    "robbery = df2[['population', 'robbery', 'pop_ratio']]\n",
    "aggravated_assault = df2[['population', 'aggravated_assault', 'pop_ratio']]\n",
    "property_crime = df2[['population', 'property_crime', 'pop_ratio']]\n",
    "burglary = df2[['population', 'burglary', 'pop_ratio']]\n",
    "larceny_theft = df2[['population', 'larceny_theft', 'pop_ratio']]\n",
    "motor_vehicle_theft = df2[['population', 'motor_vehicle_theft', 'pop_ratio']]\n",
    "arson = df2[['population', 'arson', 'pop_ratio']]"
   ]
  },
  {
   "cell_type": "markdown",
   "id": "b09e9c3b-cf6a-4f54-9b19-060ad1d99798",
   "metadata": {},
   "source": [
    "#### Calculating the proportion of each type of crime for each city"
   ]
  },
  {
   "cell_type": "code",
   "execution_count": 15,
   "id": "7e294c84-53d2-4891-b57d-407516688048",
   "metadata": {},
   "outputs": [],
   "source": [
    "with warnings.catch_warnings(record=True):\n",
    "    for data_frame in [murder_manslaughter, rape, robbery, aggravated_assault, burglary, larceny_theft, motor_vehicle_theft, arson]:\n",
    "        data_frame['proportion'] = data_frame.iloc[:, 1] / data_frame.iloc[:, 0]"
   ]
  },
  {
   "cell_type": "code",
   "execution_count": 16,
   "id": "c0ec01ec-6ea1-47cc-98c0-a3ac2f77ce87",
   "metadata": {},
   "outputs": [
    {
     "data": {
      "text/html": [
       "<div>\n",
       "<style scoped>\n",
       "    .dataframe tbody tr th:only-of-type {\n",
       "        vertical-align: middle;\n",
       "    }\n",
       "\n",
       "    .dataframe tbody tr th {\n",
       "        vertical-align: top;\n",
       "    }\n",
       "\n",
       "    .dataframe thead th {\n",
       "        text-align: right;\n",
       "    }\n",
       "</style>\n",
       "<table border=\"1\" class=\"dataframe\">\n",
       "  <thead>\n",
       "    <tr style=\"text-align: right;\">\n",
       "      <th></th>\n",
       "      <th></th>\n",
       "      <th>population</th>\n",
       "      <th>rape</th>\n",
       "      <th>pop_ratio</th>\n",
       "      <th>proportion</th>\n",
       "    </tr>\n",
       "    <tr>\n",
       "      <th>state</th>\n",
       "      <th>city</th>\n",
       "      <th></th>\n",
       "      <th></th>\n",
       "      <th></th>\n",
       "      <th></th>\n",
       "    </tr>\n",
       "  </thead>\n",
       "  <tbody>\n",
       "    <tr>\n",
       "      <th rowspan=\"5\" valign=\"top\">ALABAMA</th>\n",
       "      <th>Abbeville</th>\n",
       "      <td>2539.0</td>\n",
       "      <td>0.0</td>\n",
       "      <td>0.001944</td>\n",
       "      <td>0.0</td>\n",
       "    </tr>\n",
       "    <tr>\n",
       "      <th>Alexander City</th>\n",
       "      <td>14066.0</td>\n",
       "      <td>0.0</td>\n",
       "      <td>0.010770</td>\n",
       "      <td>0.0</td>\n",
       "    </tr>\n",
       "    <tr>\n",
       "      <th>Altoona</th>\n",
       "      <td>913.0</td>\n",
       "      <td>0.0</td>\n",
       "      <td>0.000699</td>\n",
       "      <td>0.0</td>\n",
       "    </tr>\n",
       "    <tr>\n",
       "      <th>Argo</th>\n",
       "      <td>4306.0</td>\n",
       "      <td>0.0</td>\n",
       "      <td>0.003297</td>\n",
       "      <td>0.0</td>\n",
       "    </tr>\n",
       "    <tr>\n",
       "      <th>Arley</th>\n",
       "      <td>338.0</td>\n",
       "      <td>0.0</td>\n",
       "      <td>0.000259</td>\n",
       "      <td>0.0</td>\n",
       "    </tr>\n",
       "    <tr>\n",
       "      <th>...</th>\n",
       "      <th>...</th>\n",
       "      <td>...</td>\n",
       "      <td>...</td>\n",
       "      <td>...</td>\n",
       "      <td>...</td>\n",
       "    </tr>\n",
       "    <tr>\n",
       "      <th rowspan=\"5\" valign=\"top\">WYOMING</th>\n",
       "      <th>Mills</th>\n",
       "      <td>4144.0</td>\n",
       "      <td>0.0</td>\n",
       "      <td>0.016385</td>\n",
       "      <td>0.0</td>\n",
       "    </tr>\n",
       "    <tr>\n",
       "      <th>Moorcroft</th>\n",
       "      <td>1091.0</td>\n",
       "      <td>0.0</td>\n",
       "      <td>0.004314</td>\n",
       "      <td>0.0</td>\n",
       "    </tr>\n",
       "    <tr>\n",
       "      <th>Pine Bluffs</th>\n",
       "      <td>1163.0</td>\n",
       "      <td>0.0</td>\n",
       "      <td>0.004598</td>\n",
       "      <td>0.0</td>\n",
       "    </tr>\n",
       "    <tr>\n",
       "      <th>Sheridan</th>\n",
       "      <td>18157.0</td>\n",
       "      <td>0.0</td>\n",
       "      <td>0.071793</td>\n",
       "      <td>0.0</td>\n",
       "    </tr>\n",
       "    <tr>\n",
       "      <th>Thermopolis</th>\n",
       "      <td>2747.0</td>\n",
       "      <td>0.0</td>\n",
       "      <td>0.010862</td>\n",
       "      <td>0.0</td>\n",
       "    </tr>\n",
       "  </tbody>\n",
       "</table>\n",
       "<p>1707 rows × 4 columns</p>\n",
       "</div>"
      ],
      "text/plain": [
       "                        population  rape  pop_ratio  proportion\n",
       "state   city                                                   \n",
       "ALABAMA Abbeville           2539.0   0.0   0.001944         0.0\n",
       "        Alexander City     14066.0   0.0   0.010770         0.0\n",
       "        Altoona              913.0   0.0   0.000699         0.0\n",
       "        Argo                4306.0   0.0   0.003297         0.0\n",
       "        Arley                338.0   0.0   0.000259         0.0\n",
       "...                            ...   ...        ...         ...\n",
       "WYOMING Mills               4144.0   0.0   0.016385         0.0\n",
       "        Moorcroft           1091.0   0.0   0.004314         0.0\n",
       "        Pine Bluffs         1163.0   0.0   0.004598         0.0\n",
       "        Sheridan           18157.0   0.0   0.071793         0.0\n",
       "        Thermopolis         2747.0   0.0   0.010862         0.0\n",
       "\n",
       "[1707 rows x 4 columns]"
      ]
     },
     "execution_count": 16,
     "metadata": {},
     "output_type": "execute_result"
    }
   ],
   "source": [
    "# This shows that individual crimes can have many cities with 0 counts.\n",
    "rape.loc[rape['proportion'] == 0, ]"
   ]
  },
  {
   "cell_type": "markdown",
   "id": "fa9b39fc-fc61-4d30-b363-1bebd2818225",
   "metadata": {},
   "source": [
    "#### Getting the five highest-crime and lowest-crime states for each generic crime category (violent and property)"
   ]
  },
  {
   "cell_type": "code",
   "execution_count": 17,
   "id": "e3409895-9669-42e9-a5d1-3d27503ec27f",
   "metadata": {},
   "outputs": [],
   "source": [
    "# Getting the total population and violent crime count for each state\n",
    "violent_crime = violent_crime.groupby('state').sum()\n",
    "\n",
    "# Calculating the proportion of violent crime in each state\n",
    "violent_crime['proportion'] = violent_crime['violent_crime'] / violent_crime['population']\n",
    "\n",
    "# Extracting the high-crime states for violent crime\n",
    "high_states_violent = violent_crime.sort_values('proportion', ascending=False)[0:5].index\n",
    "\n",
    "# Extracting the low-crime states for violent crime\n",
    "low_states_violent = violent_crime.sort_values('proportion', ascending=True)[0:5].index"
   ]
  },
  {
   "cell_type": "code",
   "execution_count": 18,
   "id": "8526cc30-96de-4127-8502-6e785943ac0f",
   "metadata": {},
   "outputs": [],
   "source": [
    "# Getting the total population and property crime count for each state\n",
    "property_crime = property_crime.groupby('state').sum()\n",
    "\n",
    "# Calculating the proportion of violent crime in each state\n",
    "property_crime['proportion'] = property_crime['property_crime'] / property_crime['population']\n",
    "\n",
    "# Extracting the high-crime states for violent crime\n",
    "high_states_property = property_crime.sort_values('proportion', ascending=False)[0:5].index\n",
    "\n",
    "# Extracting the low-crime states for violent crime\n",
    "low_states_property = property_crime.sort_values('proportion', ascending=True)[0:5].index"
   ]
  },
  {
   "cell_type": "code",
   "execution_count": 19,
   "id": "ec996199-37e5-4ecf-a939-2fc70d787ef3",
   "metadata": {},
   "outputs": [
    {
     "data": {
      "text/plain": [
       "Index(['NEW MEXICO1', 'TENNESSEE', 'LOUISIANA', 'ARKANSAS', 'ALABAMA'], dtype='object', name='state')"
      ]
     },
     "metadata": {},
     "output_type": "display_data"
    },
    {
     "data": {
      "text/plain": [
       "Index(['NEW HAMPSHIRE', 'MAINE', 'PENNSYLVANIA1', 'CONNECTICUT',\n",
       "       'RHODE ISLAND'],\n",
       "      dtype='object', name='state')"
      ]
     },
     "metadata": {},
     "output_type": "display_data"
    },
    {
     "data": {
      "text/plain": [
       "Index(['NEW MEXICO1', 'WASHINGTON', 'ALABAMA', 'COLORADO', 'LOUISIANA'], dtype='object', name='state')"
      ]
     },
     "metadata": {},
     "output_type": "display_data"
    },
    {
     "data": {
      "text/plain": [
       "Index(['PENNSYLVANIA1', 'MASSACHUSETTS', 'NEW HAMPSHIRE', 'NEW JERSEY1',\n",
       "       'RHODE ISLAND'],\n",
       "      dtype='object', name='state')"
      ]
     },
     "metadata": {},
     "output_type": "display_data"
    }
   ],
   "source": [
    "# Sanity check that it all worked out properly\n",
    "display(high_states_violent)\n",
    "display(low_states_violent)\n",
    "display(high_states_property)\n",
    "display(low_states_property)"
   ]
  },
  {
   "cell_type": "markdown",
   "id": "06e8fbda-b694-40f3-a553-b40daf725728",
   "metadata": {},
   "source": [
    "#### Applying weights to each crime proportions"
   ]
  },
  {
   "cell_type": "code",
   "execution_count": 20,
   "id": "400c3de7-0419-4cb8-9579-98d5cc87ca44",
   "metadata": {},
   "outputs": [],
   "source": [
    "with warnings.catch_warnings(record=True):\n",
    "    for data_frame in [murder_manslaughter, rape, robbery, aggravated_assault, burglary, larceny_theft, motor_vehicle_theft, arson]:\n",
    "        data_frame['adj_prop'] = 0"
   ]
  },
  {
   "cell_type": "code",
   "execution_count": 21,
   "id": "4be05339-7f8a-4c88-bbbf-1eb3f9b7e1ee",
   "metadata": {
    "tags": []
   },
   "outputs": [],
   "source": [
    "# I don't know why this code doesn't work. It should work. It works when small pieces are run. Loops are evil.\n",
    "\n",
    "# with warnings.catch_warnings(record=True):\n",
    "#     for data_frame in [murder_manslaughter, rape, robbery, aggravated_assault]:\n",
    "#         for i in range(data_frame.shape[0]):\n",
    "#             if data_frame.iloc[[i]].index[0][0] in high_states_violent:\n",
    "#                 data_frame[i, 'adj_prop'] = data_frame.iloc[i, 3] * (1 + data_frame.iloc[i, 2])\n",
    "#             elif data_frame.iloc[[i]].index[0][0] in low_states_violent:\n",
    "#                 data_frame[i, 'adj_prop'] = data_frame.iloc[i, 3] * (1 - data_frame.iloc[i, 2])\n",
    "#             else:\n",
    "#                 data_frame[i, 'adj_prop'] = data_frame.iloc[i, 3]\n",
    "\n",
    "#     for data_frame in [burglary, larceny_theft, motor_vehicle_theft, arson]:\n",
    "#         for i in range(data_frame.shape[0]):\n",
    "#             if data_frame.iloc[[i]].index[0][0] in high_states_property:\n",
    "#                 data_frame[i, 'adj_prop'] = data_frame.iloc[i, 3] * (1 + data_frame.iloc[i, 2])\n",
    "#             elif data_frame.iloc[[i]].index[0][0] in low_states_property:\n",
    "#                 data_frame[i, 'adj_prop'] = data_frame.iloc[i, 3] * (1 - data_frame.iloc[i, 2])\n",
    "#             else:\n",
    "#                 data_frame[i, 'adj_prop'] = data_frame.iloc[i, 3]"
   ]
  },
  {
   "cell_type": "code",
   "execution_count": 22,
   "id": "e4e44c76-a369-4e8c-99f3-f5c1d3dfeca5",
   "metadata": {},
   "outputs": [],
   "source": [
    "# murder_manslaughter data frames split by states that are high-crime, low-crime, and neither\n",
    "murder_manslaughter_high_crime = murder_manslaughter.loc[high_states_violent, :]\n",
    "murder_manslaughter_low_crime = murder_manslaughter.loc[low_states_violent, :]\n",
    "murder_manslaughter_no_weight = murder_manslaughter.drop(labels=high_states_violent.append(low_states_violent), axis=0)\n",
    "\n",
    "# Applying weights and populating the adj_prop column\n",
    "# For the no weight data frame, proportion's value will be copied into adj_prop\n",
    "murder_manslaughter_high_crime['adj_prop'] = murder_manslaughter_high_crime['proportion'] * (1 + murder_manslaughter_high_crime['pop_ratio'])\n",
    "murder_manslaughter_low_crime['adj_prop'] = murder_manslaughter_low_crime['proportion'] * (1 - murder_manslaughter_low_crime['pop_ratio'])\n",
    "murder_manslaughter_no_weight['adj_prop'] = murder_manslaughter_no_weight['proportion']\n",
    "\n",
    "# Rowbinding the three dataframes back into one, and saving over the original data frame\n",
    "murder_manslaughter = pd.concat([murder_manslaughter_high_crime, murder_manslaughter_low_crime, murder_manslaughter_no_weight], axis=0)"
   ]
  },
  {
   "cell_type": "code",
   "execution_count": 23,
   "id": "f7d5b894-67ad-47f6-ae30-7c55a135135c",
   "metadata": {},
   "outputs": [],
   "source": [
    "# Rape data frames split by states that are high-crime, low-crime, and neither\n",
    "rape_high_crime = rape.loc[high_states_violent, :]\n",
    "rape_low_crime = rape.loc[low_states_violent, :]\n",
    "rape_no_weight = rape.drop(labels=high_states_violent.append(low_states_violent), axis=0)\n",
    "\n",
    "# Applying weights and populating the adj_prop column\n",
    "# For the no weight data frame, proportion's value will be copied into adj_prop\n",
    "rape_high_crime['adj_prop'] = rape_high_crime['proportion'] * (1 + rape_high_crime['pop_ratio'])\n",
    "rape_low_crime['adj_prop'] = rape_low_crime['proportion'] * (1 - rape_low_crime['pop_ratio'])\n",
    "rape_no_weight['adj_prop'] = rape_no_weight['proportion']\n",
    "\n",
    "# Rowbinding the three dataframes back into one, and saving over the original data frame\n",
    "rape = pd.concat([rape_high_crime, rape_low_crime, rape_no_weight], axis=0)"
   ]
  },
  {
   "cell_type": "code",
   "execution_count": 24,
   "id": "f9ab7ad7-38a7-470a-860b-3f0ec576590d",
   "metadata": {},
   "outputs": [],
   "source": [
    "# Robbery data frames split by states that are high-crime, low-crime, and neither\n",
    "robbery_high_crime = robbery.loc[high_states_violent, :]\n",
    "robbery_low_crime = robbery.loc[low_states_violent, :]\n",
    "robbery_no_weight = robbery.drop(labels=high_states_violent.append(low_states_violent), axis=0)\n",
    "\n",
    "# Applying weights and populating the adj_prop column\n",
    "# For the no weight data frame, proportion's value will be copied into adj_prop\n",
    "robbery_high_crime['adj_prop'] = robbery_high_crime['proportion'] * (1 + robbery_high_crime['pop_ratio'])\n",
    "robbery_low_crime['adj_prop'] = robbery_low_crime['proportion'] * (1 - robbery_low_crime['pop_ratio'])\n",
    "robbery_no_weight['adj_prop'] = robbery_no_weight['proportion']\n",
    "\n",
    "# Rowbinding the three dataframes back into one, and saving over the original data frame\n",
    "robbery = pd.concat([robbery_high_crime, robbery_low_crime, robbery_no_weight], axis=0)"
   ]
  },
  {
   "cell_type": "code",
   "execution_count": 25,
   "id": "78b84ed6-717f-4ef3-96d1-5da1dd1d8a09",
   "metadata": {},
   "outputs": [],
   "source": [
    "# Aggravated assault data frames split by states that are high-crime, low-crime, and neither\n",
    "aggravated_assault_high_crime = aggravated_assault.loc[high_states_violent, :]\n",
    "aggravated_assault_low_crime = aggravated_assault.loc[low_states_violent, :]\n",
    "aggravated_assault_no_weight = aggravated_assault.drop(labels=high_states_violent.append(low_states_violent), axis=0)\n",
    "\n",
    "# Applying weights and populating the adj_prop column\n",
    "# For the no weight data frame, proportion's value will be copied into adj_prop\n",
    "aggravated_assault_high_crime['adj_prop'] = aggravated_assault_high_crime['proportion'] * (1 + aggravated_assault_high_crime['pop_ratio'])\n",
    "aggravated_assault_low_crime['adj_prop'] = aggravated_assault_low_crime['proportion'] * (1 - aggravated_assault_low_crime['pop_ratio'])\n",
    "aggravated_assault_no_weight['adj_prop'] = aggravated_assault_no_weight['proportion']\n",
    "\n",
    "# Rowbinding the three dataframes back into one, and saving over the original data frame\n",
    "aggravated_assault = pd.concat([aggravated_assault_high_crime, aggravated_assault_low_crime, aggravated_assault_no_weight], axis=0)"
   ]
  },
  {
   "cell_type": "code",
   "execution_count": 26,
   "id": "0d679845-f452-4114-b76f-716016283a77",
   "metadata": {},
   "outputs": [],
   "source": [
    "# Burglary data frames split by states that are high-crime, low-crime, and neither\n",
    "burglary_high_crime = burglary.loc[high_states_property, :]\n",
    "burglary_low_crime = burglary.loc[low_states_property, :]\n",
    "burglary_no_weight = burglary.drop(labels=high_states_property.append(low_states_property), axis=0)\n",
    "\n",
    "# Applying weights and populating the adj_prop column\n",
    "# For the no weight data frame, proportion's value will be copied into adj_prop\n",
    "burglary_high_crime['adj_prop'] = burglary_high_crime['proportion'] * (1 + burglary_high_crime['pop_ratio'])\n",
    "burglary_low_crime['adj_prop'] = burglary_low_crime['proportion'] * (1 - burglary_low_crime['pop_ratio'])\n",
    "burglary_no_weight['adj_prop'] = burglary_no_weight['proportion']\n",
    "\n",
    "# Rowbinding the three dataframes back into one, and saving over the original data frame\n",
    "burglary = pd.concat([burglary_high_crime, burglary_low_crime, burglary_no_weight], axis=0)"
   ]
  },
  {
   "cell_type": "code",
   "execution_count": 27,
   "id": "6475efb4-a529-4562-be51-b1ceeb834f15",
   "metadata": {},
   "outputs": [],
   "source": [
    "# larceny_theft data frames split by states that are high-crime, low-crime, and neither\n",
    "larceny_theft_high_crime = larceny_theft.loc[high_states_property, :]\n",
    "larceny_theft_low_crime = larceny_theft.loc[low_states_property, :]\n",
    "larceny_theft_no_weight = larceny_theft.drop(labels=high_states_property.append(low_states_property), axis=0)\n",
    "\n",
    "# Applying weights and populating the adj_prop column\n",
    "# For the no weight data frame, proportion's value will be copied into adj_prop\n",
    "larceny_theft_high_crime['adj_prop'] = larceny_theft_high_crime['proportion'] * (1 + larceny_theft_high_crime['pop_ratio'])\n",
    "larceny_theft_low_crime['adj_prop'] = larceny_theft_low_crime['proportion'] * (1 - larceny_theft_low_crime['pop_ratio'])\n",
    "larceny_theft_no_weight['adj_prop'] = larceny_theft_no_weight['proportion']\n",
    "\n",
    "# Rowbinding the three dataframes back into one, and saving over the original data frame\n",
    "larceny_theft = pd.concat([larceny_theft_high_crime, larceny_theft_low_crime, larceny_theft_no_weight], axis=0)"
   ]
  },
  {
   "cell_type": "code",
   "execution_count": 28,
   "id": "8927d8ad-479d-47d1-93f4-ca2cff76a8ab",
   "metadata": {},
   "outputs": [],
   "source": [
    "# motor_vehicle_theft data frames split by states that are high-crime, low-crime, and neither\n",
    "motor_vehicle_theft_high_crime = motor_vehicle_theft.loc[high_states_property, :]\n",
    "motor_vehicle_theft_low_crime = motor_vehicle_theft.loc[low_states_property, :]\n",
    "motor_vehicle_theft_no_weight = motor_vehicle_theft.drop(labels=high_states_property.append(low_states_property), axis=0)\n",
    "\n",
    "# Applying weights and populating the adj_prop column\n",
    "# For the no weight data frame, proportion's value will be copied into adj_prop\n",
    "motor_vehicle_theft_high_crime['adj_prop'] = motor_vehicle_theft_high_crime['proportion'] * (1 + motor_vehicle_theft_high_crime['pop_ratio'])\n",
    "motor_vehicle_theft_low_crime['adj_prop'] = motor_vehicle_theft_low_crime['proportion'] * (1 - motor_vehicle_theft_low_crime['pop_ratio'])\n",
    "motor_vehicle_theft_no_weight['adj_prop'] = motor_vehicle_theft_no_weight['proportion']\n",
    "\n",
    "# Rowbinding the three dataframes back into one, and saving over the original data frame\n",
    "motor_vehicle_theft = pd.concat([motor_vehicle_theft_high_crime, motor_vehicle_theft_low_crime, motor_vehicle_theft_no_weight], axis=0)"
   ]
  },
  {
   "cell_type": "code",
   "execution_count": 29,
   "id": "3cd216ea-4705-46bc-a185-d6bd25d04505",
   "metadata": {},
   "outputs": [],
   "source": [
    "# Arson data frames split by states that are high-crime, low-crime, and neither\n",
    "arson_high_crime = arson.loc[high_states_property, :]\n",
    "arson_low_crime = arson.loc[low_states_property, :]\n",
    "arson_no_weight = arson.drop(labels=high_states_property.append(low_states_property), axis=0)\n",
    "\n",
    "# Applying weights and populating the adj_prop column\n",
    "# For the no weight data frame, proportion's value will be copied into adj_prop\n",
    "arson_high_crime['adj_prop'] = arson_high_crime['proportion'] * (1 + arson_high_crime['pop_ratio'])\n",
    "arson_low_crime['adj_prop'] = arson_low_crime['proportion'] * (1 - arson_low_crime['pop_ratio'])\n",
    "arson_no_weight['adj_prop'] = arson_no_weight['proportion']\n",
    "\n",
    "# Rowbinding the three dataframes back into one, and saving over the original data frame\n",
    "arson = pd.concat([arson_high_crime, arson_low_crime, arson_no_weight], axis=0)"
   ]
  },
  {
   "cell_type": "markdown",
   "id": "035e2821-47a1-4787-a695-70a238d0fe25",
   "metadata": {},
   "source": [
    "#### Putting it all together in a single data frame that contains only the adjusted proportion from each crime"
   ]
  },
  {
   "cell_type": "code",
   "execution_count": 30,
   "id": "d37a146c-03ad-4268-b360-ac9f41b1adce",
   "metadata": {},
   "outputs": [],
   "source": [
    "# Changing the adj_prop column name for each crime so that the columns corresponding to different crimes can be distinguished\n",
    "murder_manslaughter.rename(columns={'adj_prop':'murder_manslaughter_p'}, inplace=True)\n",
    "rape.rename(columns={'adj_prop':'rape_p'}, inplace=True)\n",
    "robbery.rename(columns={'adj_prop':'robbery_p'}, inplace=True)\n",
    "aggravated_assault.rename(columns={'adj_prop':'aggravated_assault_p'}, inplace=True)\n",
    "burglary.rename(columns={'adj_prop':'burglary_p'}, inplace=True)\n",
    "larceny_theft.rename(columns={'adj_prop':'larceny_theft_p'}, inplace=True) \n",
    "motor_vehicle_theft.rename(columns={'adj_prop':'motor_vehicle_theft_p'}, inplace=True)\n",
    "arson.rename(columns={'adj_prop':'arson_p'}, inplace=True)"
   ]
  },
  {
   "cell_type": "code",
   "execution_count": 31,
   "id": "b5696bed-ff03-4e87-be2f-d96f28ee0715",
   "metadata": {},
   "outputs": [],
   "source": [
    "all_adj_props = murder_manslaughter[['murder_manslaughter_p']].join([rape[['rape_p']], robbery[['robbery_p']], aggravated_assault[['aggravated_assault_p']], burglary[['burglary_p']], larceny_theft[['larceny_theft_p']], motor_vehicle_theft[['motor_vehicle_theft_p']], arson[['arson_p']]])"
   ]
  },
  {
   "cell_type": "markdown",
   "id": "5331e62b-e73b-4434-869d-bc26ff5bca87",
   "metadata": {},
   "source": [
    "#### Calculating a final score by adding all the adjusted proportions of each city"
   ]
  },
  {
   "cell_type": "code",
   "execution_count": 32,
   "id": "f8325127-a663-40bd-8ea4-81f7a7ac91e1",
   "metadata": {},
   "outputs": [],
   "source": [
    "all_adj_props['final_score'] = all_adj_props.sum(axis=1)"
   ]
  },
  {
   "cell_type": "code",
   "execution_count": 33,
   "id": "b079631b-74fc-4442-a208-fab8eda6fed4",
   "metadata": {},
   "outputs": [],
   "source": [
    "all_adj_props.sort_values('final_score', inplace=True)"
   ]
  },
  {
   "cell_type": "markdown",
   "id": "2b85b793-c780-48ee-af00-6b722d5aafd7",
   "metadata": {},
   "source": [
    "#### Visualizing the result with a bar chart"
   ]
  },
  {
   "cell_type": "code",
   "execution_count": 34,
   "id": "87113861-419c-4b9e-a41a-36a6134a52fd",
   "metadata": {},
   "outputs": [],
   "source": [
    "# Need to reindex to have the appropriate labels for a bar chart\n",
    "all_adj_props.reset_index(inplace=True)\n",
    "\n",
    "# Combining the state and city labels\n",
    "all_adj_props.loc[:, 'label'] = all_adj_props['state'] + '_' + all_adj_props['city']"
   ]
  },
  {
   "cell_type": "code",
   "execution_count": 35,
   "id": "614273bd-5482-45a2-adbd-8bf553cdb7c5",
   "metadata": {},
   "outputs": [
    {
     "data": {
      "image/png": "[encoded data removed]",
      "text/plain": [
       "<Figure size 432x288 with 1 Axes>"
      ]
     },
     "metadata": {
      "needs_background": "light"
     },
     "output_type": "display_data"
    }
   ],
   "source": [
    "final_score_bar = sns.barplot(data=all_adj_props.iloc[0:5, :], x='final_score', y='label')\n",
    "plt.show()"
   ]
  },
  {
   "cell_type": "markdown",
   "id": "418ef735-0a6d-4a28-871e-bf74757b2d30",
   "metadata": {},
   "source": [
    "# Extending the analysis"
   ]
  },
  {
   "cell_type": "markdown",
   "id": "7d07c558-1e30-453d-ab78-209556b9ec69",
   "metadata": {},
   "source": [
    "#### Did the process of assigning weights change anything in terms of identifying the most crime-free safe cities?"
   ]
  },
  {
   "cell_type": "code",
   "execution_count": 36,
   "id": "0962a278-e230-4e00-9b96-1d3be8c01722",
   "metadata": {},
   "outputs": [],
   "source": [
    "# Changing the proportion column name for each crime so that the columns corresponding to different crimes can be distinguished\n",
    "murder_manslaughter.rename(columns={'proportion':'murder_manslaughter_nonadj_p'}, inplace=True)\n",
    "rape.rename(columns={'proportion':'rape_nonadj_p'}, inplace=True)\n",
    "robbery.rename(columns={'proportion':'robbery_nonadj_p'}, inplace=True)\n",
    "aggravated_assault.rename(columns={'proportion':'aggravated_assault_nonadj_p'}, inplace=True)\n",
    "burglary.rename(columns={'proportion':'burglary_nonadj_p'}, inplace=True)\n",
    "larceny_theft.rename(columns={'proportion':'larceny_theft_nonadj_p'}, inplace=True) \n",
    "motor_vehicle_theft.rename(columns={'proportion':'motor_vehicle_theft_nonadj_p'}, inplace=True)\n",
    "arson.rename(columns={'proportion':'arson_nonadj_p'}, inplace=True)"
   ]
  },
  {
   "cell_type": "code",
   "execution_count": 37,
   "id": "c431264f-0db4-4f5f-8a0b-2b2e396ab6ae",
   "metadata": {},
   "outputs": [],
   "source": [
    "non_adj_props = murder_manslaughter[['murder_manslaughter_nonadj_p']].join([rape[['rape_nonadj_p']], robbery[['robbery_nonadj_p']], aggravated_assault[['aggravated_assault_nonadj_p']], burglary[['burglary_nonadj_p']], larceny_theft[['larceny_theft_nonadj_p']], motor_vehicle_theft[['motor_vehicle_theft_nonadj_p']], arson[['arson_nonadj_p']]])"
   ]
  },
  {
   "cell_type": "code",
   "execution_count": 38,
   "id": "4bb35546-760a-4c8e-91ac-1efa9de02ef1",
   "metadata": {},
   "outputs": [],
   "source": [
    "non_adj_props['nonadj_final_score'] = non_adj_props.sum(axis=1)\n",
    "non_adj_props.sort_values('nonadj_final_score', inplace=True)"
   ]
  },
  {
   "cell_type": "code",
   "execution_count": 39,
   "id": "16f18981-2571-4fc7-8a93-e72974c8173d",
   "metadata": {},
   "outputs": [
    {
     "data": {
      "image/png": "[encoded data removed]",
      "text/plain": [
       "<Figure size 432x288 with 1 Axes>"
      ]
     },
     "metadata": {
      "needs_background": "light"
     },
     "output_type": "display_data"
    }
   ],
   "source": [
    "# Need to reindex to have the appropriate labels for a bar chart\n",
    "non_adj_props.reset_index(inplace=True)\n",
    "\n",
    "# Combining the state and city labels\n",
    "non_adj_props.loc[:, 'label'] = non_adj_props['state'] + '_' + non_adj_props['city']\n",
    "\n",
    "# Visualizing the safest cities determined by non adjusted final score\n",
    "nonadj_score_bar = sns.barplot(data=non_adj_props.iloc[0:5, :], x='nonadj_final_score', y='label')\n",
    "plt.show()"
   ]
  },
  {
   "cell_type": "markdown",
   "id": "151d6e3c-2d5f-4f37-be26-f4b78d06bc71",
   "metadata": {},
   "source": [
    "#### The answer is clear. The weights were too insignificant to make a difference in the rankings. This is because the proportions were so small to begin with that multiplying such a small number by a number slightly below 1 had no discernible effect."
   ]
  },
  {
   "cell_type": "markdown",
   "id": "b975259c-d55e-42d1-958b-35230123c0fc",
   "metadata": {},
   "source": [
    "#### What are the most unsafe cities?"
   ]
  },
  {
   "cell_type": "code",
   "execution_count": 40,
   "id": "84e65557-a00c-4894-b278-3b408bd9225b",
   "metadata": {},
   "outputs": [
    {
     "data": {
      "image/png": "[encoded data removed]",
      "text/plain": [
       "<Figure size 432x288 with 1 Axes>"
      ]
     },
     "metadata": {
      "needs_background": "light"
     },
     "output_type": "display_data"
    }
   ],
   "source": [
    "nonadj_score_bar_unsafe = sns.barplot(data=non_adj_props.tail(), x='nonadj_final_score', y='label')\n",
    "plt.show()"
   ]
  },
  {
   "cell_type": "markdown",
   "id": "5571a258-9aed-4ca7-a982-62bd4f208a68",
   "metadata": {},
   "source": [
    "#### The graph reveals two errors, both for cities from Colorado. Most likely, they resulted from data entry errors because none of the other values are even greater than one. Let us look at the results excluding those cities."
   ]
  },
  {
   "cell_type": "code",
   "execution_count": 41,
   "id": "702bc7e9-28c2-4ce6-a455-2e298c569884",
   "metadata": {},
   "outputs": [
    {
     "data": {
      "text/plain": [
       "(5773, 12)"
      ]
     },
     "metadata": {},
     "output_type": "display_data"
    }
   ],
   "source": [
    "display(non_adj_props.shape)\n",
    "non_adj_props.drop(index=[5771, 5772], inplace=True)"
   ]
  },
  {
   "cell_type": "code",
   "execution_count": 42,
   "id": "691fae32-9c50-41f0-ae7a-0f52e90f1418",
   "metadata": {},
   "outputs": [
    {
     "data": {
      "image/png": "[encoded data removed]",
      "text/plain": [
       "<Figure size 432x288 with 1 Axes>"
      ]
     },
     "metadata": {
      "needs_background": "light"
     },
     "output_type": "display_data"
    }
   ],
   "source": [
    "nonadj_score_bar_unsafe = sns.barplot(data=non_adj_props.tail(), x='nonadj_final_score', y='label')\n",
    "plt.show()"
   ]
  }
 ],
 "metadata": {
  "kernelspec": {
   "display_name": "Python 3 (ipykernel)",
   "language": "python",
   "name": "python3"
  },
  "language_info": {
   "codemirror_mode": {
    "name": "ipython",
    "version": 3
   },
   "file_extension": ".py",
   "mimetype": "text/x-python",
   "name": "python",
   "nbconvert_exporter": "python",
   "pygments_lexer": "ipython3",
   "version": "3.10.4"
  }
 },
 "nbformat": 4,
 "nbformat_minor": 5
}
